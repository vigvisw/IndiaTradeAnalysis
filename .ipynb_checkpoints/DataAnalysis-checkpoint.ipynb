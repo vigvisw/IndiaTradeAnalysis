{
 "cells": [
  {
   "cell_type": "code",
   "execution_count": 165,
   "metadata": {},
   "outputs": [],
   "source": [
    "# GOAL\n",
    "# analyze how dependent india is on China for products\n",
    "\n",
    "# OBJECTIVES \n",
    "# find total value of goods imported/exported from/to China\n",
    "# what is the ratio of goods imported and exported \n",
    "# what types of products are imported from china \n",
    "# what is the distribution of products"
   ]
  },
  {
   "cell_type": "markdown",
   "metadata": {},
   "source": [
    "#### Dataset Decription"
   ]
  },
  {
   "cell_type": "markdown",
   "metadata": {},
   "source": [
    "[Data Source and Description on GitHub](https://github.com/lakshyaag/India-Trade-Data)"
   ]
  },
  {
   "cell_type": "markdown",
   "metadata": {},
   "source": [
    "The dataset consists of trade values for export and import of commodities in million US$. The dataset is tidy and each row consists of a single observation."
   ]
  },
  {
   "cell_type": "markdown",
   "metadata": {},
   "source": [
    "%HTML\n",
    "\n",
    "<table>\n",
    "<thead>\n",
    "<tr>\n",
    "<th>Column</th>\n",
    "<th>Definition</th>\n",
    "</tr>\n",
    "</thead>\n",
    "<tbody>\n",
    "<tr>\n",
    "<td>HSCode</td>\n",
    "<td>Harmonized System (HS2) Code</td>\n",
    "</tr>\n",
    "<tr>\n",
    "<td>Commodity</td>\n",
    "<td>Name of commodity as per HS2</td>\n",
    "</tr>\n",
    "<tr>\n",
    "<td>Country</td>\n",
    "<td>Country of export</td>\n",
    "</tr>\n",
    "<tr>\n",
    "<td>Year</td>\n",
    "<td>Year of export</td>\n",
    "</tr>\n",
    "<tr>\n",
    "<td>Value</td>\n",
    "<td>Value of export (in million US$)</td>\n",
    "</tr>\n",
    "</tbody>\n",
    "</table>"
   ]
  },
  {
   "cell_type": "markdown",
   "metadata": {},
   "source": [
    "#### HS Code"
   ]
  },
  {
   "cell_type": "markdown",
   "metadata": {},
   "source": [
    "[Source](https://www.logisticsglossary.com/term/hs-code/)"
   ]
  },
  {
   "cell_type": "markdown",
   "metadata": {},
   "source": [
    "The Harmonized Commodity Description and Coding System (HS code) of the tariff nomenclature is an international standardised system of names and numbers for the classification of commodities. The HS code system is based on a 6-digit nomenclature. Individual countries have extended this to 10 digits for import and 8 for export.\n",
    "\n",
    "Nearly 200 countries use these HS codes as basis for:\n",
    "\n",
    "import duties\n",
    "trade statistics (Statistics Netherlands)\n",
    "origin regulations\n",
    "trade agreements\n",
    "monitoring of controlled goods (including arms, waste, protected animal species)\n",
    "risk analyses\n",
    "Customs information systems\n",
    " \n",
    "\n",
    "Since the HS code is subject to development, it needs to be ensured that the used codes remain up-to-date.\n",
    "\n",
    "When importing, a normal description of the goods needs to be stated, other than the standard text and in addition to the HS code. This is because Customs wants to be able to physically check the goods on the basis of this description. The HS code given by the supplier often suffices, but there is often uncertainty in the event of e.g. new technologies. Is that new telephone classed as a camera or otherwise? In order to be absolutely certain that the correct HS code is used for import purposes, it is best to ask for Binding Tariff Information (BTI). This applies throughout the EU if it concerns an identical product.\n",
    "\n",
    "The HS code system is developed and maintained by the World Customs Organisation (WCO), an independent organisation at government level with around 160 members, having its seat in Brussels.\n",
    "\n",
    "The HS code is also referred to as the goods code, statistics code, statistics number or tariff code. Please feel free to contact our staff for questions or advice."
   ]
  },
  {
   "cell_type": "code",
   "execution_count": 166,
   "metadata": {},
   "outputs": [],
   "source": [
    "import pandas as pd \n",
    "import numpy as np "
   ]
  },
  {
   "cell_type": "code",
   "execution_count": 167,
   "metadata": {},
   "outputs": [],
   "source": [
    "importData = pd.read_csv('2018_2010_import.csv')\n",
    "exportData = pd.read_csv('2018_2010_export.csv')"
   ]
  },
  {
   "cell_type": "markdown",
   "metadata": {},
   "source": [
    "#### ImportData"
   ]
  },
  {
   "cell_type": "code",
   "execution_count": 168,
   "metadata": {},
   "outputs": [
    {
     "data": {
      "text/html": [
       "<div>\n",
       "<style scoped>\n",
       "    .dataframe tbody tr th:only-of-type {\n",
       "        vertical-align: middle;\n",
       "    }\n",
       "\n",
       "    .dataframe tbody tr th {\n",
       "        vertical-align: top;\n",
       "    }\n",
       "\n",
       "    .dataframe thead th {\n",
       "        text-align: right;\n",
       "    }\n",
       "</style>\n",
       "<table border=\"1\" class=\"dataframe\">\n",
       "  <thead>\n",
       "    <tr style=\"text-align: right;\">\n",
       "      <th></th>\n",
       "      <th>HSCode</th>\n",
       "      <th>Commodity</th>\n",
       "      <th>value</th>\n",
       "      <th>country</th>\n",
       "      <th>year</th>\n",
       "    </tr>\n",
       "  </thead>\n",
       "  <tbody>\n",
       "    <tr>\n",
       "      <th>0</th>\n",
       "      <td>5</td>\n",
       "      <td>PRODUCTS OF ANIMAL ORIGIN, NOT ELSEWHERE SPECI...</td>\n",
       "      <td>0.00</td>\n",
       "      <td>AFGHANISTAN TIS</td>\n",
       "      <td>2018</td>\n",
       "    </tr>\n",
       "    <tr>\n",
       "      <th>1</th>\n",
       "      <td>7</td>\n",
       "      <td>EDIBLE VEGETABLES AND CERTAIN ROOTS AND TUBERS.</td>\n",
       "      <td>12.38</td>\n",
       "      <td>AFGHANISTAN TIS</td>\n",
       "      <td>2018</td>\n",
       "    </tr>\n",
       "    <tr>\n",
       "      <th>2</th>\n",
       "      <td>8</td>\n",
       "      <td>EDIBLE FRUIT AND NUTS; PEEL OR CITRUS FRUIT OR...</td>\n",
       "      <td>268.60</td>\n",
       "      <td>AFGHANISTAN TIS</td>\n",
       "      <td>2018</td>\n",
       "    </tr>\n",
       "    <tr>\n",
       "      <th>3</th>\n",
       "      <td>9</td>\n",
       "      <td>COFFEE, TEA, MATE AND SPICES.</td>\n",
       "      <td>35.48</td>\n",
       "      <td>AFGHANISTAN TIS</td>\n",
       "      <td>2018</td>\n",
       "    </tr>\n",
       "    <tr>\n",
       "      <th>4</th>\n",
       "      <td>11</td>\n",
       "      <td>PRODUCTS OF THE MILLING INDUSTRY; MALT; STARCH...</td>\n",
       "      <td>NaN</td>\n",
       "      <td>AFGHANISTAN TIS</td>\n",
       "      <td>2018</td>\n",
       "    </tr>\n",
       "  </tbody>\n",
       "</table>\n",
       "</div>"
      ],
      "text/plain": [
       "   HSCode                                          Commodity   value  \\\n",
       "0       5  PRODUCTS OF ANIMAL ORIGIN, NOT ELSEWHERE SPECI...    0.00   \n",
       "1       7    EDIBLE VEGETABLES AND CERTAIN ROOTS AND TUBERS.   12.38   \n",
       "2       8  EDIBLE FRUIT AND NUTS; PEEL OR CITRUS FRUIT OR...  268.60   \n",
       "3       9                      COFFEE, TEA, MATE AND SPICES.   35.48   \n",
       "4      11  PRODUCTS OF THE MILLING INDUSTRY; MALT; STARCH...     NaN   \n",
       "\n",
       "           country  year  \n",
       "0  AFGHANISTAN TIS  2018  \n",
       "1  AFGHANISTAN TIS  2018  \n",
       "2  AFGHANISTAN TIS  2018  \n",
       "3  AFGHANISTAN TIS  2018  \n",
       "4  AFGHANISTAN TIS  2018  "
      ]
     },
     "execution_count": 168,
     "metadata": {},
     "output_type": "execute_result"
    }
   ],
   "source": [
    "importData.head()"
   ]
  },
  {
   "cell_type": "markdown",
   "metadata": {},
   "source": [
    "#### Export Data"
   ]
  },
  {
   "cell_type": "code",
   "execution_count": 169,
   "metadata": {},
   "outputs": [
    {
     "data": {
      "text/html": [
       "<div>\n",
       "<style scoped>\n",
       "    .dataframe tbody tr th:only-of-type {\n",
       "        vertical-align: middle;\n",
       "    }\n",
       "\n",
       "    .dataframe tbody tr th {\n",
       "        vertical-align: top;\n",
       "    }\n",
       "\n",
       "    .dataframe thead th {\n",
       "        text-align: right;\n",
       "    }\n",
       "</style>\n",
       "<table border=\"1\" class=\"dataframe\">\n",
       "  <thead>\n",
       "    <tr style=\"text-align: right;\">\n",
       "      <th></th>\n",
       "      <th>HSCode</th>\n",
       "      <th>Commodity</th>\n",
       "      <th>value</th>\n",
       "      <th>country</th>\n",
       "      <th>year</th>\n",
       "    </tr>\n",
       "  </thead>\n",
       "  <tbody>\n",
       "    <tr>\n",
       "      <th>0</th>\n",
       "      <td>2</td>\n",
       "      <td>MEAT AND EDIBLE MEAT OFFAL.</td>\n",
       "      <td>0.18</td>\n",
       "      <td>AFGHANISTAN TIS</td>\n",
       "      <td>2018</td>\n",
       "    </tr>\n",
       "    <tr>\n",
       "      <th>1</th>\n",
       "      <td>3</td>\n",
       "      <td>FISH AND CRUSTACEANS, MOLLUSCS AND OTHER AQUAT...</td>\n",
       "      <td>0.00</td>\n",
       "      <td>AFGHANISTAN TIS</td>\n",
       "      <td>2018</td>\n",
       "    </tr>\n",
       "    <tr>\n",
       "      <th>2</th>\n",
       "      <td>4</td>\n",
       "      <td>DAIRY PRODUCE; BIRDS' EGGS; NATURAL HONEY; EDI...</td>\n",
       "      <td>12.48</td>\n",
       "      <td>AFGHANISTAN TIS</td>\n",
       "      <td>2018</td>\n",
       "    </tr>\n",
       "    <tr>\n",
       "      <th>3</th>\n",
       "      <td>6</td>\n",
       "      <td>LIVE TREES AND OTHER PLANTS; BULBS; ROOTS AND ...</td>\n",
       "      <td>0.00</td>\n",
       "      <td>AFGHANISTAN TIS</td>\n",
       "      <td>2018</td>\n",
       "    </tr>\n",
       "    <tr>\n",
       "      <th>4</th>\n",
       "      <td>7</td>\n",
       "      <td>EDIBLE VEGETABLES AND CERTAIN ROOTS AND TUBERS.</td>\n",
       "      <td>1.89</td>\n",
       "      <td>AFGHANISTAN TIS</td>\n",
       "      <td>2018</td>\n",
       "    </tr>\n",
       "  </tbody>\n",
       "</table>\n",
       "</div>"
      ],
      "text/plain": [
       "   HSCode                                          Commodity  value  \\\n",
       "0       2                        MEAT AND EDIBLE MEAT OFFAL.   0.18   \n",
       "1       3  FISH AND CRUSTACEANS, MOLLUSCS AND OTHER AQUAT...   0.00   \n",
       "2       4  DAIRY PRODUCE; BIRDS' EGGS; NATURAL HONEY; EDI...  12.48   \n",
       "3       6  LIVE TREES AND OTHER PLANTS; BULBS; ROOTS AND ...   0.00   \n",
       "4       7    EDIBLE VEGETABLES AND CERTAIN ROOTS AND TUBERS.   1.89   \n",
       "\n",
       "           country  year  \n",
       "0  AFGHANISTAN TIS  2018  \n",
       "1  AFGHANISTAN TIS  2018  \n",
       "2  AFGHANISTAN TIS  2018  \n",
       "3  AFGHANISTAN TIS  2018  \n",
       "4  AFGHANISTAN TIS  2018  "
      ]
     },
     "execution_count": 169,
     "metadata": {},
     "output_type": "execute_result"
    }
   ],
   "source": [
    "exportData.head()"
   ]
  },
  {
   "cell_type": "markdown",
   "metadata": {},
   "source": [
    "### Analysis of Export Data"
   ]
  },
  {
   "cell_type": "code",
   "execution_count": 170,
   "metadata": {},
   "outputs": [
    {
     "data": {
      "text/plain": [
       "array(['AFGHANISTAN TIS', 'ALBANIA', 'ALGERIA', 'AMERI SAMOA', 'ANDORRA',\n",
       "       'ANGOLA', 'ANGUILLA', 'ANTARTICA', 'ANTIGUA', 'ARGENTINA',\n",
       "       'ARMENIA', 'ARUBA', 'AUSTRALIA', 'AUSTRIA', 'AZERBAIJAN',\n",
       "       'BAHAMAS', 'BAHARAIN IS', 'BANGLADESH PR', 'BARBADOS', 'BELARUS',\n",
       "       'BELGIUM', 'BELIZE', 'BENIN', 'BERMUDA', 'BHUTAN', 'BOLIVIA',\n",
       "       'BOSNIA-HRZGOVIN', 'BOTSWANA', 'BR VIRGN IS', 'BRAZIL', 'BRUNEI',\n",
       "       'BULGARIA', 'BURKINA FASO', 'BURUNDI', 'C AFRI REP', 'CAMBODIA',\n",
       "       'CAMEROON', 'CANADA', 'CAPE VERDE IS', 'CAYMAN IS', 'CHAD',\n",
       "       'CHILE', 'CHINA P RP', 'COLOMBIA', 'COMOROS', 'CONGO D. REP.',\n",
       "       'CONGO P REP', 'COOK IS', 'COSTA RICA', \"COTE D' IVOIRE\",\n",
       "       'CROATIA', 'CUBA', 'CURACAO', 'CYPRUS', 'CZECH REPUBLIC',\n",
       "       'DENMARK', 'DJIBOUTI', 'DOMINIC REP', 'DOMINICA', 'ECUADOR',\n",
       "       'EGYPT A RP', 'EL SALVADOR', 'EQUTL GUINEA', 'ERITREA', 'ESTONIA',\n",
       "       'ETHIOPIA', 'FALKLAND IS', 'FAROE IS.', 'FIJI IS', 'FINLAND',\n",
       "       'FR GUIANA', 'FR POLYNESIA', 'FRANCE', 'GABON', 'GAMBIA',\n",
       "       'GEORGIA', 'GERMANY', 'GHANA', 'GIBRALTAR', 'GREECE', 'GREENLAND',\n",
       "       'GRENADA', 'GUADELOUPE', 'GUAM', 'GUATEMALA', 'GUERNSEY', 'GUINEA',\n",
       "       'GUINEA BISSAU', 'GUYANA', 'HAITI', 'HEARD MACDONALD', 'HONDURAS',\n",
       "       'HONG KONG', 'HUNGARY', 'ICELAND', 'INDONESIA',\n",
       "       'INSTALLATIONS IN INTERNATIONAL WATERS   ', 'IRAN', 'IRAQ',\n",
       "       'IRELAND', 'ISRAEL', 'ITALY', 'JAMAICA', 'JAPAN',\n",
       "       'JERSEY         ', 'JORDAN', 'KAZAKHSTAN', 'KENYA', 'KIRIBATI REP',\n",
       "       'KOREA DP RP', 'KOREA RP', 'KUWAIT', 'KYRGHYZSTAN', 'LAO PD RP',\n",
       "       'LATVIA', 'LEBANON', 'LESOTHO', 'LIBERIA', 'LIBYA',\n",
       "       'LIECHTENSTEIN', 'LITHUANIA', 'LUXEMBOURG', 'MACAO', 'MACEDONIA',\n",
       "       'MADAGASCAR', 'MALAWI', 'MALAYSIA', 'MALDIVES', 'MALI', 'MALTA',\n",
       "       'MARSHALL ISLAND', 'MARTINIQUE', 'MAURITANIA', 'MAURITIUS',\n",
       "       'MAYOTTE', 'MEXICO', 'MICRONESIA', 'MOLDOVA', 'MONACO', 'MONGOLIA',\n",
       "       'MONTENEGRO', 'MONTSERRAT', 'MOROCCO', 'MOZAMBIQUE', 'MYANMAR',\n",
       "       'N. MARIANA IS.', 'NAMIBIA', 'NAURU RP', 'NEPAL', 'NETHERLAND',\n",
       "       'NETHERLANDANTIL', 'NEW CALEDONIA', 'NEW ZEALAND', 'NICARAGUA',\n",
       "       'NIGER', 'NIGERIA', 'NORFOLK IS', 'NORWAY', 'OMAN', 'PAKISTAN IR',\n",
       "       'PALAU', 'PANAMA C Z', 'PANAMA REPUBLIC', 'PAPUA N GNA',\n",
       "       'PARAGUAY', 'PERU', 'PHILIPPINES', 'PITCAIRN IS.', 'POLAND',\n",
       "       'PORTUGAL', 'PUERTO RICO', 'QATAR', 'REUNION', 'ROMANIA', 'RUSSIA',\n",
       "       'RWANDA', 'SAHARWI A.DM RP', 'SAMOA', 'SAN MARINO', 'SAO TOME',\n",
       "       'SAUDI ARAB', 'SENEGAL', 'SERBIA', 'SEYCHELLES', 'SIERRA LEONE',\n",
       "       'SINGAPORE', 'SINT MAARTEN (DUTCH PART)', 'SLOVAK REP', 'SLOVENIA',\n",
       "       'SOLOMON IS', 'SOMALIA', 'SOUTH AFRICA', 'SOUTH SUDAN ', 'SPAIN',\n",
       "       'SRI LANKA DSR', 'ST HELENA', 'ST KITT N A', 'ST LUCIA',\n",
       "       'ST PIERRE', 'ST VINCENT', 'STATE OF PALEST', 'SUDAN', 'SURINAME',\n",
       "       'SWAZILAND', 'SWEDEN', 'SWITZERLAND', 'SYRIA', 'TAIWAN',\n",
       "       'TAJIKISTAN', 'TANZANIA REP', 'THAILAND', 'TIMOR LESTE', 'TOGO',\n",
       "       'TOKELAU IS', 'TONGA', 'TRINIDAD', 'TUNISIA', 'TURKEY',\n",
       "       'TURKMENISTAN', 'TURKS C IS', 'TUVALU', 'U ARAB EMTS', 'U K',\n",
       "       'U S A', 'UGANDA', 'UKRAINE', 'UNION OF SERBIA & MONTENEGRO',\n",
       "       'UNSPECIFIED', 'URUGUAY',\n",
       "       'US MINOR OUTLYING ISLANDS               ', 'UZBEKISTAN',\n",
       "       'VANUATU REP', 'VATICAN CITY', 'VENEZUELA', 'VIETNAM SOC REP',\n",
       "       'VIRGIN IS US', 'WALLIS F IS', 'YEMEN REPUBLC', 'ZAMBIA',\n",
       "       'ZIMBABWE', 'COCOS IS', 'FR S ANT TR', 'NIUE IS', 'CANARY IS',\n",
       "       'CHANNEL IS', 'CHRISTMAS IS.', 'PACIFIC IS', 'NEUTRAL ZONE'],\n",
       "      dtype=object)"
      ]
     },
     "execution_count": 170,
     "metadata": {},
     "output_type": "execute_result"
    }
   ],
   "source": [
    "# list unique countries india trades with \n",
    "exportData['country'].unique()"
   ]
  },
  {
   "cell_type": "code",
   "execution_count": 171,
   "metadata": {},
   "outputs": [],
   "source": [
    "# filter the data by trade with china \n",
    "exportDataFilter = (exportData['country'] == 'CHINA P RP') & (exportData['year'] == 2018)"
   ]
  },
  {
   "cell_type": "markdown",
   "metadata": {},
   "source": [
    "#### Top 5 Commodities India Exported To China in 2018"
   ]
  },
  {
   "cell_type": "code",
   "execution_count": 172,
   "metadata": {},
   "outputs": [
    {
     "data": {
      "text/html": [
       "<div>\n",
       "<style scoped>\n",
       "    .dataframe tbody tr th:only-of-type {\n",
       "        vertical-align: middle;\n",
       "    }\n",
       "\n",
       "    .dataframe tbody tr th {\n",
       "        vertical-align: top;\n",
       "    }\n",
       "\n",
       "    .dataframe thead th {\n",
       "        text-align: right;\n",
       "    }\n",
       "</style>\n",
       "<table border=\"1\" class=\"dataframe\">\n",
       "  <thead>\n",
       "    <tr style=\"text-align: right;\">\n",
       "      <th></th>\n",
       "      <th>HSCode</th>\n",
       "      <th>Commodity</th>\n",
       "      <th>value</th>\n",
       "      <th>country</th>\n",
       "      <th>year</th>\n",
       "    </tr>\n",
       "  </thead>\n",
       "  <tbody>\n",
       "    <tr>\n",
       "      <th>2844</th>\n",
       "      <td>29</td>\n",
       "      <td>ORGANIC CHEMICALS</td>\n",
       "      <td>3249.21</td>\n",
       "      <td>CHINA P RP</td>\n",
       "      <td>2018</td>\n",
       "    </tr>\n",
       "    <tr>\n",
       "      <th>2842</th>\n",
       "      <td>27</td>\n",
       "      <td>MINERAL FUELS, MINERAL OILS AND PRODUCTS OF TH...</td>\n",
       "      <td>2855.69</td>\n",
       "      <td>CHINA P RP</td>\n",
       "      <td>2018</td>\n",
       "    </tr>\n",
       "    <tr>\n",
       "      <th>2867</th>\n",
       "      <td>52</td>\n",
       "      <td>COTTON.</td>\n",
       "      <td>1786.77</td>\n",
       "      <td>CHINA P RP</td>\n",
       "      <td>2018</td>\n",
       "    </tr>\n",
       "    <tr>\n",
       "      <th>2841</th>\n",
       "      <td>26</td>\n",
       "      <td>ORES, SLAG AND ASH.</td>\n",
       "      <td>1220.22</td>\n",
       "      <td>CHINA P RP</td>\n",
       "      <td>2018</td>\n",
       "    </tr>\n",
       "    <tr>\n",
       "      <th>2854</th>\n",
       "      <td>39</td>\n",
       "      <td>PLASTIC AND ARTICLES THEREOF.</td>\n",
       "      <td>1104.52</td>\n",
       "      <td>CHINA P RP</td>\n",
       "      <td>2018</td>\n",
       "    </tr>\n",
       "  </tbody>\n",
       "</table>\n",
       "</div>"
      ],
      "text/plain": [
       "      HSCode                                          Commodity    value  \\\n",
       "2844      29                                  ORGANIC CHEMICALS  3249.21   \n",
       "2842      27  MINERAL FUELS, MINERAL OILS AND PRODUCTS OF TH...  2855.69   \n",
       "2867      52                                            COTTON.  1786.77   \n",
       "2841      26                                ORES, SLAG AND ASH.  1220.22   \n",
       "2854      39                      PLASTIC AND ARTICLES THEREOF.  1104.52   \n",
       "\n",
       "         country  year  \n",
       "2844  CHINA P RP  2018  \n",
       "2842  CHINA P RP  2018  \n",
       "2867  CHINA P RP  2018  \n",
       "2841  CHINA P RP  2018  \n",
       "2854  CHINA P RP  2018  "
      ]
     },
     "execution_count": 172,
     "metadata": {},
     "output_type": "execute_result"
    }
   ],
   "source": [
    "exportDataChina = exportData[exportDataFilter]\n",
    "exportDataChina = exportDataChina.sort_values('value', ascending=False)\n",
    "exportDataChina.head()"
   ]
  },
  {
   "cell_type": "code",
   "execution_count": 173,
   "metadata": {},
   "outputs": [
    {
     "name": "stdout",
     "output_type": "stream",
     "text": [
      "0 NaN values in 96 data points\n"
     ]
    },
    {
     "data": {
      "text/plain": [
       "95"
      ]
     },
     "execution_count": 173,
     "metadata": {},
     "output_type": "execute_result"
    }
   ],
   "source": [
    "# remove null values \n",
    "\n",
    "# find number of NaN's\n",
    "exportNullFilter = ~ pd.isna(exportDataChina['value'])\n",
    "print('{} NaN values in {} data points'.format(exportDataChina.shape[0]- null_filter.sum(), exportDataChina.shape[0]))\n",
    "\n",
    "# remove NaNs\n",
    "exportDataChina = exportDataChina[exportNullFilter]\n",
    "exportDataChina.shape[0]"
   ]
  },
  {
   "cell_type": "markdown",
   "metadata": {},
   "source": [
    "### Total Value of Goods Imported from China"
   ]
  },
  {
   "cell_type": "code",
   "execution_count": 177,
   "metadata": {},
   "outputs": [
    {
     "name": "stdout",
     "output_type": "stream",
     "text": [
      "Total value of Good Exported from India to China: 16.75 billion USD\n"
     ]
    }
   ],
   "source": [
    "goodsTotalValue = exportDataChina['value'].sum()\n",
    "print('Total value of Good Exported from India to China: {} billion USD'.format(np.round(goodsTotalValue/1000, 2)))"
   ]
  },
  {
   "cell_type": "markdown",
   "metadata": {},
   "source": [
    "#### Fractional Value of Top 5 Exported Goods"
   ]
  },
  {
   "cell_type": "code",
   "execution_count": 178,
   "metadata": {},
   "outputs": [
    {
     "data": {
      "text/html": [
       "<div>\n",
       "<style scoped>\n",
       "    .dataframe tbody tr th:only-of-type {\n",
       "        vertical-align: middle;\n",
       "    }\n",
       "\n",
       "    .dataframe tbody tr th {\n",
       "        vertical-align: top;\n",
       "    }\n",
       "\n",
       "    .dataframe thead th {\n",
       "        text-align: right;\n",
       "    }\n",
       "</style>\n",
       "<table border=\"1\" class=\"dataframe\">\n",
       "  <thead>\n",
       "    <tr style=\"text-align: right;\">\n",
       "      <th></th>\n",
       "      <th>HSCode</th>\n",
       "      <th>Commodity</th>\n",
       "      <th>value</th>\n",
       "      <th>country</th>\n",
       "      <th>year</th>\n",
       "      <th>GoodsValueFraction</th>\n",
       "    </tr>\n",
       "  </thead>\n",
       "  <tbody>\n",
       "    <tr>\n",
       "      <th>2844</th>\n",
       "      <td>29</td>\n",
       "      <td>ORGANIC CHEMICALS</td>\n",
       "      <td>3249.21</td>\n",
       "      <td>CHINA P RP</td>\n",
       "      <td>2018</td>\n",
       "      <td>0.19</td>\n",
       "    </tr>\n",
       "    <tr>\n",
       "      <th>2842</th>\n",
       "      <td>27</td>\n",
       "      <td>MINERAL FUELS, MINERAL OILS AND PRODUCTS OF TH...</td>\n",
       "      <td>2855.69</td>\n",
       "      <td>CHINA P RP</td>\n",
       "      <td>2018</td>\n",
       "      <td>0.17</td>\n",
       "    </tr>\n",
       "    <tr>\n",
       "      <th>2867</th>\n",
       "      <td>52</td>\n",
       "      <td>COTTON.</td>\n",
       "      <td>1786.77</td>\n",
       "      <td>CHINA P RP</td>\n",
       "      <td>2018</td>\n",
       "      <td>0.11</td>\n",
       "    </tr>\n",
       "    <tr>\n",
       "      <th>2841</th>\n",
       "      <td>26</td>\n",
       "      <td>ORES, SLAG AND ASH.</td>\n",
       "      <td>1220.22</td>\n",
       "      <td>CHINA P RP</td>\n",
       "      <td>2018</td>\n",
       "      <td>0.07</td>\n",
       "    </tr>\n",
       "    <tr>\n",
       "      <th>2854</th>\n",
       "      <td>39</td>\n",
       "      <td>PLASTIC AND ARTICLES THEREOF.</td>\n",
       "      <td>1104.52</td>\n",
       "      <td>CHINA P RP</td>\n",
       "      <td>2018</td>\n",
       "      <td>0.07</td>\n",
       "    </tr>\n",
       "  </tbody>\n",
       "</table>\n",
       "</div>"
      ],
      "text/plain": [
       "      HSCode                                          Commodity    value  \\\n",
       "2844      29                                  ORGANIC CHEMICALS  3249.21   \n",
       "2842      27  MINERAL FUELS, MINERAL OILS AND PRODUCTS OF TH...  2855.69   \n",
       "2867      52                                            COTTON.  1786.77   \n",
       "2841      26                                ORES, SLAG AND ASH.  1220.22   \n",
       "2854      39                      PLASTIC AND ARTICLES THEREOF.  1104.52   \n",
       "\n",
       "         country  year  GoodsValueFraction  \n",
       "2844  CHINA P RP  2018                0.19  \n",
       "2842  CHINA P RP  2018                0.17  \n",
       "2867  CHINA P RP  2018                0.11  \n",
       "2841  CHINA P RP  2018                0.07  \n",
       "2854  CHINA P RP  2018                0.07  "
      ]
     },
     "execution_count": 178,
     "metadata": {},
     "output_type": "execute_result"
    }
   ],
   "source": [
    "exportDataChina['GoodsValueFraction'] = np.round(exportDataChina['value']/goodsTotalValue, 2)\n",
    "exportDataChina.head()"
   ]
  },
  {
   "cell_type": "markdown",
   "metadata": {},
   "source": [
    "#### Ratio of Imports to Exports Across All Countries"
   ]
  },
  {
   "cell_type": "code",
   "execution_count": 191,
   "metadata": {},
   "outputs": [],
   "source": [
    "totalExportByCountry = exportData.groupby('country').sum()['value']\n",
    "totalImportByCountry = importData.groupby('country').sum()['value']\n",
    "\n",
    "importExportRatio = (totalImportByCountry/totalExportByCountry).sort_values(ascending=False)"
   ]
  },
  {
   "cell_type": "code",
   "execution_count": 200,
   "metadata": {},
   "outputs": [
    {
     "data": {
      "text/plain": [
       "country\n",
       "PANAMA C Z                                  55.674107\n",
       "VENEZUELA                                   48.995139\n",
       "EQUTL GUINEA                                33.198950\n",
       "COCOS IS                                    28.103448\n",
       "SWITZERLAND                                 20.688295\n",
       "SOLOMON IS                                  15.310518\n",
       "ANTARTICA                                   15.267857\n",
       "IRAQ                                        14.488710\n",
       "PALAU                                       14.296296\n",
       "GUINEA BISSAU                               13.297717\n",
       "SOUTH SUDAN                                 13.110341\n",
       "ANGOLA                                      12.767737\n",
       "NAURU RP                                    12.505112\n",
       "QATAR                                       11.721412\n",
       "GUERNSEY                                    11.333333\n",
       "BOTSWANA                                    10.051950\n",
       "GABON                                        9.561520\n",
       "FALKLAND IS                                  8.354610\n",
       "KUWAIT                                       8.295722\n",
       "AZERBAIJAN                                   7.027825\n",
       "LUXEMBOURG                                   5.377930\n",
       "UKRAINE                                      5.353490\n",
       "BRUNEI                                       4.921392\n",
       "NIGERIA                                      4.671775\n",
       "AUSTRALIA                                    4.556111\n",
       "CHAD                                         4.373886\n",
       "CHINA P RP                                   4.369058\n",
       "FINLAND                                      4.230971\n",
       "PAPUA N GNA                                  4.073849\n",
       "ARGENTINA                                    3.803466\n",
       "                                              ...    \n",
       "TONGA                                        0.047938\n",
       "BARBADOS                                     0.044740\n",
       "TIMOR LESTE                                  0.044010\n",
       "ST KITT N A                                  0.042424\n",
       "KENYA                                        0.040353\n",
       "BELIZE                                       0.039939\n",
       "NICARAGUA                                    0.038172\n",
       "MICRONESIA                                   0.034014\n",
       "GREENLAND                                    0.031949\n",
       "FIJI IS                                      0.030892\n",
       "TOKELAU IS                                   0.030204\n",
       "MAURITIUS                                    0.024522\n",
       "SAO TOME                                     0.023438\n",
       "MARTINIQUE                                   0.022588\n",
       "MONTSERRAT                                   0.021053\n",
       "RWANDA                                       0.019891\n",
       "DJIBOUTI                                     0.011970\n",
       "GUAM                                         0.007673\n",
       "MONTENEGRO                                   0.006243\n",
       "FR POLYNESIA                                 0.004704\n",
       "ST VINCENT                                   0.003063\n",
       "GIBRALTAR                                    0.002635\n",
       "PACIFIC IS                                   0.000285\n",
       "CHANNEL IS                                   0.000000\n",
       "CANARY IS                                         NaN\n",
       "CURACAO                                           NaN\n",
       "INSTALLATIONS IN INTERNATIONAL WATERS             NaN\n",
       "NEUTRAL ZONE                                      NaN\n",
       "SAHARWI A.DM RP                                   NaN\n",
       "SINT MAARTEN (DUTCH PART)                         NaN\n",
       "Name: value, Length: 247, dtype: float64"
      ]
     },
     "execution_count": 200,
     "metadata": {},
     "output_type": "execute_result"
    }
   ],
   "source": [
    "importExportRatio[1:]"
   ]
  }
 ],
 "metadata": {
  "kernelspec": {
   "display_name": "Python 3",
   "language": "python",
   "name": "python3"
  },
  "language_info": {
   "codemirror_mode": {
    "name": "ipython",
    "version": 3
   },
   "file_extension": ".py",
   "mimetype": "text/x-python",
   "name": "python",
   "nbconvert_exporter": "python",
   "pygments_lexer": "ipython3",
   "version": "3.7.3"
  }
 },
 "nbformat": 4,
 "nbformat_minor": 2
}
