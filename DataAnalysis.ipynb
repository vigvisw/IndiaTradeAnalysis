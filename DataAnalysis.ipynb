{
 "cells": [
  {
   "cell_type": "code",
   "execution_count": 110,
   "metadata": {},
   "outputs": [],
   "source": [
    "# GOAL\n",
    "# analyze how dependent india is on China for products\n",
    "\n",
    "# OBJECTIVES \n",
    "# find total value of goods imported/exported from/to China\n",
    "# what is the ratio of goods imported and exported \n",
    "# what types of products are imported from china \n",
    "# what is the distribution of products"
   ]
  },
  {
   "cell_type": "code",
   "execution_count": 111,
   "metadata": {},
   "outputs": [],
   "source": [
    "import pandas as pd \n",
    "import numpy as np \n"
   ]
  },
  {
   "cell_type": "code",
   "execution_count": 112,
   "metadata": {},
   "outputs": [],
   "source": [
    "data = pd.read_csv('india_trade_data.csv')"
   ]
  },
  {
   "cell_type": "code",
   "execution_count": 113,
   "metadata": {},
   "outputs": [
    {
     "data": {
      "text/html": [
       "<div>\n",
       "<style scoped>\n",
       "    .dataframe tbody tr th:only-of-type {\n",
       "        vertical-align: middle;\n",
       "    }\n",
       "\n",
       "    .dataframe tbody tr th {\n",
       "        vertical-align: top;\n",
       "    }\n",
       "\n",
       "    .dataframe thead th {\n",
       "        text-align: right;\n",
       "    }\n",
       "</style>\n",
       "<table border=\"1\" class=\"dataframe\">\n",
       "  <thead>\n",
       "    <tr style=\"text-align: right;\">\n",
       "      <th></th>\n",
       "      <th>HSCode</th>\n",
       "      <th>Commodity</th>\n",
       "      <th>value</th>\n",
       "      <th>country</th>\n",
       "      <th>year</th>\n",
       "    </tr>\n",
       "  </thead>\n",
       "  <tbody>\n",
       "    <tr>\n",
       "      <th>0</th>\n",
       "      <td>2</td>\n",
       "      <td>MEAT AND EDIBLE MEAT OFFAL.</td>\n",
       "      <td>0.18</td>\n",
       "      <td>AFGHANISTAN TIS</td>\n",
       "      <td>2018</td>\n",
       "    </tr>\n",
       "    <tr>\n",
       "      <th>1</th>\n",
       "      <td>3</td>\n",
       "      <td>FISH AND CRUSTACEANS, MOLLUSCS AND OTHER AQUAT...</td>\n",
       "      <td>0.00</td>\n",
       "      <td>AFGHANISTAN TIS</td>\n",
       "      <td>2018</td>\n",
       "    </tr>\n",
       "    <tr>\n",
       "      <th>2</th>\n",
       "      <td>4</td>\n",
       "      <td>DAIRY PRODUCE; BIRDS' EGGS; NATURAL HONEY; EDI...</td>\n",
       "      <td>12.48</td>\n",
       "      <td>AFGHANISTAN TIS</td>\n",
       "      <td>2018</td>\n",
       "    </tr>\n",
       "    <tr>\n",
       "      <th>3</th>\n",
       "      <td>6</td>\n",
       "      <td>LIVE TREES AND OTHER PLANTS; BULBS; ROOTS AND ...</td>\n",
       "      <td>0.00</td>\n",
       "      <td>AFGHANISTAN TIS</td>\n",
       "      <td>2018</td>\n",
       "    </tr>\n",
       "    <tr>\n",
       "      <th>4</th>\n",
       "      <td>7</td>\n",
       "      <td>EDIBLE VEGETABLES AND CERTAIN ROOTS AND TUBERS.</td>\n",
       "      <td>1.89</td>\n",
       "      <td>AFGHANISTAN TIS</td>\n",
       "      <td>2018</td>\n",
       "    </tr>\n",
       "  </tbody>\n",
       "</table>\n",
       "</div>"
      ],
      "text/plain": [
       "   HSCode                                          Commodity  value  \\\n",
       "0       2                        MEAT AND EDIBLE MEAT OFFAL.   0.18   \n",
       "1       3  FISH AND CRUSTACEANS, MOLLUSCS AND OTHER AQUAT...   0.00   \n",
       "2       4  DAIRY PRODUCE; BIRDS' EGGS; NATURAL HONEY; EDI...  12.48   \n",
       "3       6  LIVE TREES AND OTHER PLANTS; BULBS; ROOTS AND ...   0.00   \n",
       "4       7    EDIBLE VEGETABLES AND CERTAIN ROOTS AND TUBERS.   1.89   \n",
       "\n",
       "           country  year  \n",
       "0  AFGHANISTAN TIS  2018  \n",
       "1  AFGHANISTAN TIS  2018  \n",
       "2  AFGHANISTAN TIS  2018  \n",
       "3  AFGHANISTAN TIS  2018  \n",
       "4  AFGHANISTAN TIS  2018  "
      ]
     },
     "execution_count": 113,
     "metadata": {},
     "output_type": "execute_result"
    }
   ],
   "source": [
    "data.head()"
   ]
  },
  {
   "cell_type": "code",
   "execution_count": 114,
   "metadata": {},
   "outputs": [],
   "source": [
    "# HS Code"
   ]
  },
  {
   "cell_type": "markdown",
   "metadata": {},
   "source": [
    "[Source](https://www.logisticsglossary.com/term/hs-code/)"
   ]
  },
  {
   "cell_type": "markdown",
   "metadata": {},
   "source": [
    "The Harmonized Commodity Description and Coding System (HS code) of the tariff nomenclature is an international standardised system of names and numbers for the classification of commodities. The HS code system is based on a 6-digit nomenclature. Individual countries have extended this to 10 digits for import and 8 for export.\n",
    "\n",
    "Nearly 200 countries use these HS codes as basis for:\n",
    "\n",
    "import duties\n",
    "trade statistics (Statistics Netherlands)\n",
    "origin regulations\n",
    "trade agreements\n",
    "monitoring of controlled goods (including arms, waste, protected animal species)\n",
    "risk analyses\n",
    "Customs information systems\n",
    " \n",
    "\n",
    "Since the HS code is subject to development, it needs to be ensured that the used codes remain up-to-date.\n",
    "\n",
    "When importing, a normal description of the goods needs to be stated, other than the standard text and in addition to the HS code. This is because Customs wants to be able to physically check the goods on the basis of this description. The HS code given by the supplier often suffices, but there is often uncertainty in the event of e.g. new technologies. Is that new telephone classed as a camera or otherwise? In order to be absolutely certain that the correct HS code is used for import purposes, it is best to ask for Binding Tariff Information (BTI). This applies throughout the EU if it concerns an identical product.\n",
    "\n",
    "The HS code system is developed and maintained by the World Customs Organisation (WCO), an independent organisation at government level with around 160 members, having its seat in Brussels.\n",
    "\n",
    "The HS code is also referred to as the goods code, statistics code, statistics number or tariff code. Please feel free to contact our staff for questions or advice."
   ]
  },
  {
   "cell_type": "code",
   "execution_count": 115,
   "metadata": {},
   "outputs": [
    {
     "data": {
      "text/plain": [
       "array(['AFGHANISTAN TIS', 'ALBANIA', 'ALGERIA', 'AMERI SAMOA', 'ANDORRA',\n",
       "       'ANGOLA', 'ANGUILLA', 'ANTARTICA', 'ANTIGUA', 'ARGENTINA',\n",
       "       'ARMENIA', 'ARUBA', 'AUSTRALIA', 'AUSTRIA', 'AZERBAIJAN',\n",
       "       'BAHAMAS', 'BAHARAIN IS', 'BANGLADESH PR', 'BARBADOS', 'BELARUS',\n",
       "       'BELGIUM', 'BELIZE', 'BENIN', 'BERMUDA', 'BHUTAN', 'BOLIVIA',\n",
       "       'BOSNIA-HRZGOVIN', 'BOTSWANA', 'BR VIRGN IS', 'BRAZIL', 'BRUNEI',\n",
       "       'BULGARIA', 'BURKINA FASO', 'BURUNDI', 'C AFRI REP', 'CAMBODIA',\n",
       "       'CAMEROON', 'CANADA', 'CAPE VERDE IS', 'CAYMAN IS', 'CHAD',\n",
       "       'CHILE', 'CHINA P RP', 'COLOMBIA', 'COMOROS', 'CONGO D. REP.',\n",
       "       'CONGO P REP', 'COOK IS', 'COSTA RICA', \"COTE D' IVOIRE\",\n",
       "       'CROATIA', 'CUBA', 'CURACAO', 'CYPRUS', 'CZECH REPUBLIC',\n",
       "       'DENMARK', 'DJIBOUTI', 'DOMINIC REP', 'DOMINICA', 'ECUADOR',\n",
       "       'EGYPT A RP', 'EL SALVADOR', 'EQUTL GUINEA', 'ERITREA', 'ESTONIA',\n",
       "       'ETHIOPIA', 'FALKLAND IS', 'FAROE IS.', 'FIJI IS', 'FINLAND',\n",
       "       'FR GUIANA', 'FR POLYNESIA', 'FRANCE', 'GABON', 'GAMBIA',\n",
       "       'GEORGIA', 'GERMANY', 'GHANA', 'GIBRALTAR', 'GREECE', 'GREENLAND',\n",
       "       'GRENADA', 'GUADELOUPE', 'GUAM', 'GUATEMALA', 'GUERNSEY', 'GUINEA',\n",
       "       'GUINEA BISSAU', 'GUYANA', 'HAITI', 'HEARD MACDONALD', 'HONDURAS',\n",
       "       'HONG KONG', 'HUNGARY', 'ICELAND', 'INDONESIA',\n",
       "       'INSTALLATIONS IN INTERNATIONAL WATERS   ', 'IRAN', 'IRAQ',\n",
       "       'IRELAND', 'ISRAEL', 'ITALY', 'JAMAICA', 'JAPAN',\n",
       "       'JERSEY         ', 'JORDAN', 'KAZAKHSTAN', 'KENYA', 'KIRIBATI REP',\n",
       "       'KOREA DP RP', 'KOREA RP', 'KUWAIT', 'KYRGHYZSTAN', 'LAO PD RP',\n",
       "       'LATVIA', 'LEBANON', 'LESOTHO', 'LIBERIA', 'LIBYA',\n",
       "       'LIECHTENSTEIN', 'LITHUANIA', 'LUXEMBOURG', 'MACAO', 'MACEDONIA',\n",
       "       'MADAGASCAR', 'MALAWI', 'MALAYSIA', 'MALDIVES', 'MALI', 'MALTA',\n",
       "       'MARSHALL ISLAND', 'MARTINIQUE', 'MAURITANIA', 'MAURITIUS',\n",
       "       'MAYOTTE', 'MEXICO', 'MICRONESIA', 'MOLDOVA', 'MONACO', 'MONGOLIA',\n",
       "       'MONTENEGRO', 'MONTSERRAT', 'MOROCCO', 'MOZAMBIQUE', 'MYANMAR',\n",
       "       'N. MARIANA IS.', 'NAMIBIA', 'NAURU RP', 'NEPAL', 'NETHERLAND',\n",
       "       'NETHERLANDANTIL', 'NEW CALEDONIA', 'NEW ZEALAND', 'NICARAGUA',\n",
       "       'NIGER', 'NIGERIA', 'NORFOLK IS', 'NORWAY', 'OMAN', 'PAKISTAN IR',\n",
       "       'PALAU', 'PANAMA C Z', 'PANAMA REPUBLIC', 'PAPUA N GNA',\n",
       "       'PARAGUAY', 'PERU', 'PHILIPPINES', 'PITCAIRN IS.', 'POLAND',\n",
       "       'PORTUGAL', 'PUERTO RICO', 'QATAR', 'REUNION', 'ROMANIA', 'RUSSIA',\n",
       "       'RWANDA', 'SAHARWI A.DM RP', 'SAMOA', 'SAN MARINO', 'SAO TOME',\n",
       "       'SAUDI ARAB', 'SENEGAL', 'SERBIA', 'SEYCHELLES', 'SIERRA LEONE',\n",
       "       'SINGAPORE', 'SINT MAARTEN (DUTCH PART)', 'SLOVAK REP', 'SLOVENIA',\n",
       "       'SOLOMON IS', 'SOMALIA', 'SOUTH AFRICA', 'SOUTH SUDAN ', 'SPAIN',\n",
       "       'SRI LANKA DSR', 'ST HELENA', 'ST KITT N A', 'ST LUCIA',\n",
       "       'ST PIERRE', 'ST VINCENT', 'STATE OF PALEST', 'SUDAN', 'SURINAME',\n",
       "       'SWAZILAND', 'SWEDEN', 'SWITZERLAND', 'SYRIA', 'TAIWAN',\n",
       "       'TAJIKISTAN', 'TANZANIA REP', 'THAILAND', 'TIMOR LESTE', 'TOGO',\n",
       "       'TOKELAU IS', 'TONGA', 'TRINIDAD', 'TUNISIA', 'TURKEY',\n",
       "       'TURKMENISTAN', 'TURKS C IS', 'TUVALU', 'U ARAB EMTS', 'U K',\n",
       "       'U S A', 'UGANDA', 'UKRAINE', 'UNION OF SERBIA & MONTENEGRO',\n",
       "       'UNSPECIFIED', 'URUGUAY',\n",
       "       'US MINOR OUTLYING ISLANDS               ', 'UZBEKISTAN',\n",
       "       'VANUATU REP', 'VATICAN CITY', 'VENEZUELA', 'VIETNAM SOC REP',\n",
       "       'VIRGIN IS US', 'WALLIS F IS', 'YEMEN REPUBLC', 'ZAMBIA',\n",
       "       'ZIMBABWE', 'COCOS IS', 'FR S ANT TR', 'NIUE IS', 'CANARY IS',\n",
       "       'CHANNEL IS', 'CHRISTMAS IS.', 'PACIFIC IS', 'NEUTRAL ZONE'],\n",
       "      dtype=object)"
      ]
     },
     "execution_count": 115,
     "metadata": {},
     "output_type": "execute_result"
    }
   ],
   "source": [
    "# list unique countries india trades with \n",
    "data['country'].unique()"
   ]
  },
  {
   "cell_type": "code",
   "execution_count": 116,
   "metadata": {},
   "outputs": [],
   "source": [
    "# filter the data by trade with china \n",
    "dataFilter = (data['country'] == 'CHINA P RP') & (data['year'] == 2018)"
   ]
  },
  {
   "cell_type": "markdown",
   "metadata": {},
   "source": [
    "### Top 5 Commodities India Exported from China in 2018"
   ]
  },
  {
   "cell_type": "code",
   "execution_count": 117,
   "metadata": {},
   "outputs": [
    {
     "data": {
      "text/html": [
       "<div>\n",
       "<style scoped>\n",
       "    .dataframe tbody tr th:only-of-type {\n",
       "        vertical-align: middle;\n",
       "    }\n",
       "\n",
       "    .dataframe tbody tr th {\n",
       "        vertical-align: top;\n",
       "    }\n",
       "\n",
       "    .dataframe thead th {\n",
       "        text-align: right;\n",
       "    }\n",
       "</style>\n",
       "<table border=\"1\" class=\"dataframe\">\n",
       "  <thead>\n",
       "    <tr style=\"text-align: right;\">\n",
       "      <th></th>\n",
       "      <th>HSCode</th>\n",
       "      <th>Commodity</th>\n",
       "      <th>value</th>\n",
       "      <th>country</th>\n",
       "      <th>year</th>\n",
       "    </tr>\n",
       "  </thead>\n",
       "  <tbody>\n",
       "    <tr>\n",
       "      <th>2844</th>\n",
       "      <td>29</td>\n",
       "      <td>ORGANIC CHEMICALS</td>\n",
       "      <td>3249.21</td>\n",
       "      <td>CHINA P RP</td>\n",
       "      <td>2018</td>\n",
       "    </tr>\n",
       "    <tr>\n",
       "      <th>2842</th>\n",
       "      <td>27</td>\n",
       "      <td>MINERAL FUELS, MINERAL OILS AND PRODUCTS OF TH...</td>\n",
       "      <td>2855.69</td>\n",
       "      <td>CHINA P RP</td>\n",
       "      <td>2018</td>\n",
       "    </tr>\n",
       "    <tr>\n",
       "      <th>2867</th>\n",
       "      <td>52</td>\n",
       "      <td>COTTON.</td>\n",
       "      <td>1786.77</td>\n",
       "      <td>CHINA P RP</td>\n",
       "      <td>2018</td>\n",
       "    </tr>\n",
       "    <tr>\n",
       "      <th>2841</th>\n",
       "      <td>26</td>\n",
       "      <td>ORES, SLAG AND ASH.</td>\n",
       "      <td>1220.22</td>\n",
       "      <td>CHINA P RP</td>\n",
       "      <td>2018</td>\n",
       "    </tr>\n",
       "    <tr>\n",
       "      <th>2854</th>\n",
       "      <td>39</td>\n",
       "      <td>PLASTIC AND ARTICLES THEREOF.</td>\n",
       "      <td>1104.52</td>\n",
       "      <td>CHINA P RP</td>\n",
       "      <td>2018</td>\n",
       "    </tr>\n",
       "  </tbody>\n",
       "</table>\n",
       "</div>"
      ],
      "text/plain": [
       "      HSCode                                          Commodity    value  \\\n",
       "2844      29                                  ORGANIC CHEMICALS  3249.21   \n",
       "2842      27  MINERAL FUELS, MINERAL OILS AND PRODUCTS OF TH...  2855.69   \n",
       "2867      52                                            COTTON.  1786.77   \n",
       "2841      26                                ORES, SLAG AND ASH.  1220.22   \n",
       "2854      39                      PLASTIC AND ARTICLES THEREOF.  1104.52   \n",
       "\n",
       "         country  year  \n",
       "2844  CHINA P RP  2018  \n",
       "2842  CHINA P RP  2018  \n",
       "2867  CHINA P RP  2018  \n",
       "2841  CHINA P RP  2018  \n",
       "2854  CHINA P RP  2018  "
      ]
     },
     "execution_count": 117,
     "metadata": {},
     "output_type": "execute_result"
    }
   ],
   "source": [
    "chinaData = data[dataFilter]\n",
    "chinaData = chinaData.sort_values('value', ascending=False)\n",
    "chinaData.head()"
   ]
  },
  {
   "cell_type": "code",
   "execution_count": 118,
   "metadata": {},
   "outputs": [
    {
     "name": "stdout",
     "output_type": "stream",
     "text": [
      "1 NaN values in 96 data points\n"
     ]
    },
    {
     "data": {
      "text/plain": [
       "95"
      ]
     },
     "execution_count": 118,
     "metadata": {},
     "output_type": "execute_result"
    }
   ],
   "source": [
    "# remove null values \n",
    "\n",
    "# find number of NaN's\n",
    "null_filter = ~ pd.isna(chinaData['value'])\n",
    "print('{} NaN values in {} data points'.format(chinaData.shape[0]- null_filter.sum(), chinaData.shape[0]))\n",
    "\n",
    "# remove NaNs\n",
    "chinaData = chinaData[null_filter]\n",
    "chinaData.shape[0]"
   ]
  },
  {
   "cell_type": "markdown",
   "metadata": {},
   "source": [
    "### Total Value of Goods Imported from China"
   ]
  },
  {
   "cell_type": "code",
   "execution_count": 123,
   "metadata": {},
   "outputs": [
    {
     "name": "stdout",
     "output_type": "stream",
     "text": [
      "Total value of Imports from China: 16751.94\n"
     ]
    }
   ],
   "source": [
    "goodsTotalValue = chinaData['value'].sum()\n",
    "print('Total value of Imports from China: {}'.format(np.round(goodsTotalValue, 2)))"
   ]
  },
  {
   "cell_type": "markdown",
   "metadata": {},
   "source": [
    "### Fractional Value of Top 5 Goods "
   ]
  },
  {
   "cell_type": "code",
   "execution_count": 126,
   "metadata": {},
   "outputs": [
    {
     "data": {
      "text/html": [
       "<div>\n",
       "<style scoped>\n",
       "    .dataframe tbody tr th:only-of-type {\n",
       "        vertical-align: middle;\n",
       "    }\n",
       "\n",
       "    .dataframe tbody tr th {\n",
       "        vertical-align: top;\n",
       "    }\n",
       "\n",
       "    .dataframe thead th {\n",
       "        text-align: right;\n",
       "    }\n",
       "</style>\n",
       "<table border=\"1\" class=\"dataframe\">\n",
       "  <thead>\n",
       "    <tr style=\"text-align: right;\">\n",
       "      <th></th>\n",
       "      <th>HSCode</th>\n",
       "      <th>Commodity</th>\n",
       "      <th>value</th>\n",
       "      <th>country</th>\n",
       "      <th>year</th>\n",
       "      <th>GoodsValueFraction</th>\n",
       "    </tr>\n",
       "  </thead>\n",
       "  <tbody>\n",
       "    <tr>\n",
       "      <th>2844</th>\n",
       "      <td>29</td>\n",
       "      <td>ORGANIC CHEMICALS</td>\n",
       "      <td>3249.21</td>\n",
       "      <td>CHINA P RP</td>\n",
       "      <td>2018</td>\n",
       "      <td>0.19</td>\n",
       "    </tr>\n",
       "    <tr>\n",
       "      <th>2842</th>\n",
       "      <td>27</td>\n",
       "      <td>MINERAL FUELS, MINERAL OILS AND PRODUCTS OF TH...</td>\n",
       "      <td>2855.69</td>\n",
       "      <td>CHINA P RP</td>\n",
       "      <td>2018</td>\n",
       "      <td>0.17</td>\n",
       "    </tr>\n",
       "    <tr>\n",
       "      <th>2867</th>\n",
       "      <td>52</td>\n",
       "      <td>COTTON.</td>\n",
       "      <td>1786.77</td>\n",
       "      <td>CHINA P RP</td>\n",
       "      <td>2018</td>\n",
       "      <td>0.11</td>\n",
       "    </tr>\n",
       "    <tr>\n",
       "      <th>2841</th>\n",
       "      <td>26</td>\n",
       "      <td>ORES, SLAG AND ASH.</td>\n",
       "      <td>1220.22</td>\n",
       "      <td>CHINA P RP</td>\n",
       "      <td>2018</td>\n",
       "      <td>0.07</td>\n",
       "    </tr>\n",
       "    <tr>\n",
       "      <th>2854</th>\n",
       "      <td>39</td>\n",
       "      <td>PLASTIC AND ARTICLES THEREOF.</td>\n",
       "      <td>1104.52</td>\n",
       "      <td>CHINA P RP</td>\n",
       "      <td>2018</td>\n",
       "      <td>0.07</td>\n",
       "    </tr>\n",
       "  </tbody>\n",
       "</table>\n",
       "</div>"
      ],
      "text/plain": [
       "      HSCode                                          Commodity    value  \\\n",
       "2844      29                                  ORGANIC CHEMICALS  3249.21   \n",
       "2842      27  MINERAL FUELS, MINERAL OILS AND PRODUCTS OF TH...  2855.69   \n",
       "2867      52                                            COTTON.  1786.77   \n",
       "2841      26                                ORES, SLAG AND ASH.  1220.22   \n",
       "2854      39                      PLASTIC AND ARTICLES THEREOF.  1104.52   \n",
       "\n",
       "         country  year  GoodsValueFraction  \n",
       "2844  CHINA P RP  2018                0.19  \n",
       "2842  CHINA P RP  2018                0.17  \n",
       "2867  CHINA P RP  2018                0.11  \n",
       "2841  CHINA P RP  2018                0.07  \n",
       "2854  CHINA P RP  2018                0.07  "
      ]
     },
     "execution_count": 126,
     "metadata": {},
     "output_type": "execute_result"
    }
   ],
   "source": [
    "chinaData['GoodsValueFraction'] = np.round(chinaData['value']/goodsTotalValue, 2)\n",
    "chinaData.head()"
   ]
  }
 ],
 "metadata": {
  "kernelspec": {
   "display_name": "Python 3",
   "language": "python",
   "name": "python3"
  },
  "language_info": {
   "codemirror_mode": {
    "name": "ipython",
    "version": 3
   },
   "file_extension": ".py",
   "mimetype": "text/x-python",
   "name": "python",
   "nbconvert_exporter": "python",
   "pygments_lexer": "ipython3",
   "version": "3.7.3"
  }
 },
 "nbformat": 4,
 "nbformat_minor": 2
}
